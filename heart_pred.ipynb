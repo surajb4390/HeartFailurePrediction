{
 "cells": [
  {
   "cell_type": "markdown",
   "id": "proprietary-translator",
   "metadata": {},
   "source": [
    "# Problem Statement: "
   ]
  },
  {
   "cell_type": "markdown",
   "id": "split-solid",
   "metadata": {},
   "source": [
    "Heart Failure is biggest problem in the word into healtcare industry. So we predict possibility of heart failure on the basis\n",
    "of given features using machine learning"
   ]
  },
  {
   "cell_type": "code",
   "execution_count": 1,
   "id": "inner-oracle",
   "metadata": {},
   "outputs": [],
   "source": [
    "#importing Necessary Libraries\n",
    "import pandas as pd\n",
    "import numpy as np\n",
    "import matplotlib.pyplot as plt\n",
    "import seaborn as sns\n",
    "import warnings\n",
    "%matplotlib inline\n",
    "warnings.filterwarnings('ignore')"
   ]
  },
  {
   "cell_type": "code",
   "execution_count": 2,
   "id": "beneficial-jersey",
   "metadata": {},
   "outputs": [
    {
     "data": {
      "text/html": [
       "<div>\n",
       "<style scoped>\n",
       "    .dataframe tbody tr th:only-of-type {\n",
       "        vertical-align: middle;\n",
       "    }\n",
       "\n",
       "    .dataframe tbody tr th {\n",
       "        vertical-align: top;\n",
       "    }\n",
       "\n",
       "    .dataframe thead th {\n",
       "        text-align: right;\n",
       "    }\n",
       "</style>\n",
       "<table border=\"1\" class=\"dataframe\">\n",
       "  <thead>\n",
       "    <tr style=\"text-align: right;\">\n",
       "      <th></th>\n",
       "      <th>age</th>\n",
       "      <th>anaemia</th>\n",
       "      <th>creatinine_phosphokinase</th>\n",
       "      <th>diabetes</th>\n",
       "      <th>ejection_fraction</th>\n",
       "      <th>high_blood_pressure</th>\n",
       "      <th>platelets</th>\n",
       "      <th>serum_creatinine</th>\n",
       "      <th>serum_sodium</th>\n",
       "      <th>sex</th>\n",
       "      <th>smoking</th>\n",
       "      <th>time</th>\n",
       "      <th>DEATH_EVENT</th>\n",
       "    </tr>\n",
       "  </thead>\n",
       "  <tbody>\n",
       "    <tr>\n",
       "      <th>0</th>\n",
       "      <td>75.0</td>\n",
       "      <td>0</td>\n",
       "      <td>582</td>\n",
       "      <td>0</td>\n",
       "      <td>20</td>\n",
       "      <td>1</td>\n",
       "      <td>265000.00</td>\n",
       "      <td>1.9</td>\n",
       "      <td>130</td>\n",
       "      <td>1</td>\n",
       "      <td>0</td>\n",
       "      <td>4</td>\n",
       "      <td>1</td>\n",
       "    </tr>\n",
       "    <tr>\n",
       "      <th>1</th>\n",
       "      <td>55.0</td>\n",
       "      <td>0</td>\n",
       "      <td>7861</td>\n",
       "      <td>0</td>\n",
       "      <td>38</td>\n",
       "      <td>0</td>\n",
       "      <td>263358.03</td>\n",
       "      <td>1.1</td>\n",
       "      <td>136</td>\n",
       "      <td>1</td>\n",
       "      <td>0</td>\n",
       "      <td>6</td>\n",
       "      <td>1</td>\n",
       "    </tr>\n",
       "    <tr>\n",
       "      <th>2</th>\n",
       "      <td>65.0</td>\n",
       "      <td>0</td>\n",
       "      <td>146</td>\n",
       "      <td>0</td>\n",
       "      <td>20</td>\n",
       "      <td>0</td>\n",
       "      <td>162000.00</td>\n",
       "      <td>1.3</td>\n",
       "      <td>129</td>\n",
       "      <td>1</td>\n",
       "      <td>1</td>\n",
       "      <td>7</td>\n",
       "      <td>1</td>\n",
       "    </tr>\n",
       "    <tr>\n",
       "      <th>3</th>\n",
       "      <td>50.0</td>\n",
       "      <td>1</td>\n",
       "      <td>111</td>\n",
       "      <td>0</td>\n",
       "      <td>20</td>\n",
       "      <td>0</td>\n",
       "      <td>210000.00</td>\n",
       "      <td>1.9</td>\n",
       "      <td>137</td>\n",
       "      <td>1</td>\n",
       "      <td>0</td>\n",
       "      <td>7</td>\n",
       "      <td>1</td>\n",
       "    </tr>\n",
       "    <tr>\n",
       "      <th>4</th>\n",
       "      <td>65.0</td>\n",
       "      <td>1</td>\n",
       "      <td>160</td>\n",
       "      <td>1</td>\n",
       "      <td>20</td>\n",
       "      <td>0</td>\n",
       "      <td>327000.00</td>\n",
       "      <td>2.7</td>\n",
       "      <td>116</td>\n",
       "      <td>0</td>\n",
       "      <td>0</td>\n",
       "      <td>8</td>\n",
       "      <td>1</td>\n",
       "    </tr>\n",
       "  </tbody>\n",
       "</table>\n",
       "</div>"
      ],
      "text/plain": [
       "    age  anaemia  creatinine_phosphokinase  diabetes  ejection_fraction  \\\n",
       "0  75.0        0                       582         0                 20   \n",
       "1  55.0        0                      7861         0                 38   \n",
       "2  65.0        0                       146         0                 20   \n",
       "3  50.0        1                       111         0                 20   \n",
       "4  65.0        1                       160         1                 20   \n",
       "\n",
       "   high_blood_pressure  platelets  serum_creatinine  serum_sodium  sex  \\\n",
       "0                    1  265000.00               1.9           130    1   \n",
       "1                    0  263358.03               1.1           136    1   \n",
       "2                    0  162000.00               1.3           129    1   \n",
       "3                    0  210000.00               1.9           137    1   \n",
       "4                    0  327000.00               2.7           116    0   \n",
       "\n",
       "   smoking  time  DEATH_EVENT  \n",
       "0        0     4            1  \n",
       "1        0     6            1  \n",
       "2        1     7            1  \n",
       "3        0     7            1  \n",
       "4        0     8            1  "
      ]
     },
     "execution_count": 2,
     "metadata": {},
     "output_type": "execute_result"
    }
   ],
   "source": [
    "df = pd.read_csv('D:\\\\DS\\\\heart_failure\\\\Dataset\\\\heart_failure_clinical_records_dataset.csv')\n",
    "df.head()"
   ]
  },
  {
   "cell_type": "code",
   "execution_count": 3,
   "id": "progressive-diving",
   "metadata": {},
   "outputs": [
    {
     "data": {
      "text/plain": [
       "(299, 13)"
      ]
     },
     "execution_count": 3,
     "metadata": {},
     "output_type": "execute_result"
    }
   ],
   "source": [
    "df.shape"
   ]
  },
  {
   "cell_type": "markdown",
   "id": "becoming-reducing",
   "metadata": {},
   "source": [
    "anaemia = Decrease of red blood cells or hemoglobin (boolean)"
   ]
  },
  {
   "cell_type": "markdown",
   "id": "spectacular-tissue",
   "metadata": {},
   "source": [
    "creatinine_phosphokinase = Level of the CPK enzyme in the blood (mcg/L)"
   ]
  },
  {
   "cell_type": "markdown",
   "id": "informed-cassette",
   "metadata": {},
   "source": [
    "diabetes = If the patient has diabetes (boolean)"
   ]
  },
  {
   "cell_type": "markdown",
   "id": "harmful-confusion",
   "metadata": {},
   "source": [
    "ejection_fraction = Percentage of blood leaving the heart at each contraction (percentage)"
   ]
  },
  {
   "cell_type": "markdown",
   "id": "elementary-central",
   "metadata": {},
   "source": [
    "high_blood_pressure = If the patient has hypertension (boolean)"
   ]
  },
  {
   "cell_type": "markdown",
   "id": "removed-hundred",
   "metadata": {},
   "source": [
    "platelets = Platelets in the blood (kiloplatelets/mL)"
   ]
  },
  {
   "cell_type": "markdown",
   "id": "tribal-mount",
   "metadata": {},
   "source": [
    "serum_creatinine = Level of serum creatinine in the blood (mg/dL)"
   ]
  },
  {
   "cell_type": "markdown",
   "id": "religious-rally",
   "metadata": {},
   "source": [
    "serum_sodium = Level of serum sodium in the blood (mEq/L)"
   ]
  },
  {
   "cell_type": "markdown",
   "id": "plastic-founder",
   "metadata": {},
   "source": [
    "sex = Woman =0 or man = 1 (binary)"
   ]
  },
  {
   "cell_type": "markdown",
   "id": "willing-commodity",
   "metadata": {},
   "source": [
    "smoking = If the patient smokes = 1 or not smokes = 0 (boolean)"
   ]
  },
  {
   "cell_type": "markdown",
   "id": "physical-metabolism",
   "metadata": {},
   "source": [
    "time = Follow-up period (days)"
   ]
  },
  {
   "cell_type": "markdown",
   "id": "proper-harmony",
   "metadata": {},
   "source": [
    "DEATH_EVENT = If the patient deceased during the follow-up period (boolean) This is our target variable"
   ]
  },
  {
   "cell_type": "code",
   "execution_count": 4,
   "id": "formed-calculator",
   "metadata": {},
   "outputs": [
    {
     "data": {
      "text/plain": [
       "age                         0\n",
       "anaemia                     0\n",
       "creatinine_phosphokinase    0\n",
       "diabetes                    0\n",
       "ejection_fraction           0\n",
       "high_blood_pressure         0\n",
       "platelets                   0\n",
       "serum_creatinine            0\n",
       "serum_sodium                0\n",
       "sex                         0\n",
       "smoking                     0\n",
       "time                        0\n",
       "DEATH_EVENT                 0\n",
       "dtype: int64"
      ]
     },
     "execution_count": 4,
     "metadata": {},
     "output_type": "execute_result"
    }
   ],
   "source": [
    "#checking any null value present in dataset\n",
    "df.isnull().sum()"
   ]
  },
  {
   "cell_type": "code",
   "execution_count": 5,
   "id": "contained-duration",
   "metadata": {},
   "outputs": [
    {
     "data": {
      "text/html": [
       "<div>\n",
       "<style scoped>\n",
       "    .dataframe tbody tr th:only-of-type {\n",
       "        vertical-align: middle;\n",
       "    }\n",
       "\n",
       "    .dataframe tbody tr th {\n",
       "        vertical-align: top;\n",
       "    }\n",
       "\n",
       "    .dataframe thead th {\n",
       "        text-align: right;\n",
       "    }\n",
       "</style>\n",
       "<table border=\"1\" class=\"dataframe\">\n",
       "  <thead>\n",
       "    <tr style=\"text-align: right;\">\n",
       "      <th></th>\n",
       "      <th>age</th>\n",
       "      <th>anaemia</th>\n",
       "      <th>creatinine_phosphokinase</th>\n",
       "      <th>diabetes</th>\n",
       "      <th>ejection_fraction</th>\n",
       "      <th>high_blood_pressure</th>\n",
       "      <th>platelets</th>\n",
       "      <th>serum_creatinine</th>\n",
       "      <th>serum_sodium</th>\n",
       "      <th>sex</th>\n",
       "      <th>smoking</th>\n",
       "      <th>time</th>\n",
       "      <th>DEATH_EVENT</th>\n",
       "    </tr>\n",
       "  </thead>\n",
       "  <tbody>\n",
       "    <tr>\n",
       "      <th>count</th>\n",
       "      <td>299.000000</td>\n",
       "      <td>299.000000</td>\n",
       "      <td>299.000000</td>\n",
       "      <td>299.000000</td>\n",
       "      <td>299.000000</td>\n",
       "      <td>299.000000</td>\n",
       "      <td>299.000000</td>\n",
       "      <td>299.00000</td>\n",
       "      <td>299.000000</td>\n",
       "      <td>299.000000</td>\n",
       "      <td>299.00000</td>\n",
       "      <td>299.000000</td>\n",
       "      <td>299.00000</td>\n",
       "    </tr>\n",
       "    <tr>\n",
       "      <th>mean</th>\n",
       "      <td>60.833893</td>\n",
       "      <td>0.431438</td>\n",
       "      <td>581.839465</td>\n",
       "      <td>0.418060</td>\n",
       "      <td>38.083612</td>\n",
       "      <td>0.351171</td>\n",
       "      <td>263358.029264</td>\n",
       "      <td>1.39388</td>\n",
       "      <td>136.625418</td>\n",
       "      <td>0.648829</td>\n",
       "      <td>0.32107</td>\n",
       "      <td>130.260870</td>\n",
       "      <td>0.32107</td>\n",
       "    </tr>\n",
       "    <tr>\n",
       "      <th>std</th>\n",
       "      <td>11.894809</td>\n",
       "      <td>0.496107</td>\n",
       "      <td>970.287881</td>\n",
       "      <td>0.494067</td>\n",
       "      <td>11.834841</td>\n",
       "      <td>0.478136</td>\n",
       "      <td>97804.236869</td>\n",
       "      <td>1.03451</td>\n",
       "      <td>4.412477</td>\n",
       "      <td>0.478136</td>\n",
       "      <td>0.46767</td>\n",
       "      <td>77.614208</td>\n",
       "      <td>0.46767</td>\n",
       "    </tr>\n",
       "    <tr>\n",
       "      <th>min</th>\n",
       "      <td>40.000000</td>\n",
       "      <td>0.000000</td>\n",
       "      <td>23.000000</td>\n",
       "      <td>0.000000</td>\n",
       "      <td>14.000000</td>\n",
       "      <td>0.000000</td>\n",
       "      <td>25100.000000</td>\n",
       "      <td>0.50000</td>\n",
       "      <td>113.000000</td>\n",
       "      <td>0.000000</td>\n",
       "      <td>0.00000</td>\n",
       "      <td>4.000000</td>\n",
       "      <td>0.00000</td>\n",
       "    </tr>\n",
       "    <tr>\n",
       "      <th>25%</th>\n",
       "      <td>51.000000</td>\n",
       "      <td>0.000000</td>\n",
       "      <td>116.500000</td>\n",
       "      <td>0.000000</td>\n",
       "      <td>30.000000</td>\n",
       "      <td>0.000000</td>\n",
       "      <td>212500.000000</td>\n",
       "      <td>0.90000</td>\n",
       "      <td>134.000000</td>\n",
       "      <td>0.000000</td>\n",
       "      <td>0.00000</td>\n",
       "      <td>73.000000</td>\n",
       "      <td>0.00000</td>\n",
       "    </tr>\n",
       "    <tr>\n",
       "      <th>50%</th>\n",
       "      <td>60.000000</td>\n",
       "      <td>0.000000</td>\n",
       "      <td>250.000000</td>\n",
       "      <td>0.000000</td>\n",
       "      <td>38.000000</td>\n",
       "      <td>0.000000</td>\n",
       "      <td>262000.000000</td>\n",
       "      <td>1.10000</td>\n",
       "      <td>137.000000</td>\n",
       "      <td>1.000000</td>\n",
       "      <td>0.00000</td>\n",
       "      <td>115.000000</td>\n",
       "      <td>0.00000</td>\n",
       "    </tr>\n",
       "    <tr>\n",
       "      <th>75%</th>\n",
       "      <td>70.000000</td>\n",
       "      <td>1.000000</td>\n",
       "      <td>582.000000</td>\n",
       "      <td>1.000000</td>\n",
       "      <td>45.000000</td>\n",
       "      <td>1.000000</td>\n",
       "      <td>303500.000000</td>\n",
       "      <td>1.40000</td>\n",
       "      <td>140.000000</td>\n",
       "      <td>1.000000</td>\n",
       "      <td>1.00000</td>\n",
       "      <td>203.000000</td>\n",
       "      <td>1.00000</td>\n",
       "    </tr>\n",
       "    <tr>\n",
       "      <th>max</th>\n",
       "      <td>95.000000</td>\n",
       "      <td>1.000000</td>\n",
       "      <td>7861.000000</td>\n",
       "      <td>1.000000</td>\n",
       "      <td>80.000000</td>\n",
       "      <td>1.000000</td>\n",
       "      <td>850000.000000</td>\n",
       "      <td>9.40000</td>\n",
       "      <td>148.000000</td>\n",
       "      <td>1.000000</td>\n",
       "      <td>1.00000</td>\n",
       "      <td>285.000000</td>\n",
       "      <td>1.00000</td>\n",
       "    </tr>\n",
       "  </tbody>\n",
       "</table>\n",
       "</div>"
      ],
      "text/plain": [
       "              age     anaemia  creatinine_phosphokinase    diabetes  \\\n",
       "count  299.000000  299.000000                299.000000  299.000000   \n",
       "mean    60.833893    0.431438                581.839465    0.418060   \n",
       "std     11.894809    0.496107                970.287881    0.494067   \n",
       "min     40.000000    0.000000                 23.000000    0.000000   \n",
       "25%     51.000000    0.000000                116.500000    0.000000   \n",
       "50%     60.000000    0.000000                250.000000    0.000000   \n",
       "75%     70.000000    1.000000                582.000000    1.000000   \n",
       "max     95.000000    1.000000               7861.000000    1.000000   \n",
       "\n",
       "       ejection_fraction  high_blood_pressure      platelets  \\\n",
       "count         299.000000           299.000000     299.000000   \n",
       "mean           38.083612             0.351171  263358.029264   \n",
       "std            11.834841             0.478136   97804.236869   \n",
       "min            14.000000             0.000000   25100.000000   \n",
       "25%            30.000000             0.000000  212500.000000   \n",
       "50%            38.000000             0.000000  262000.000000   \n",
       "75%            45.000000             1.000000  303500.000000   \n",
       "max            80.000000             1.000000  850000.000000   \n",
       "\n",
       "       serum_creatinine  serum_sodium         sex    smoking        time  \\\n",
       "count         299.00000    299.000000  299.000000  299.00000  299.000000   \n",
       "mean            1.39388    136.625418    0.648829    0.32107  130.260870   \n",
       "std             1.03451      4.412477    0.478136    0.46767   77.614208   \n",
       "min             0.50000    113.000000    0.000000    0.00000    4.000000   \n",
       "25%             0.90000    134.000000    0.000000    0.00000   73.000000   \n",
       "50%             1.10000    137.000000    1.000000    0.00000  115.000000   \n",
       "75%             1.40000    140.000000    1.000000    1.00000  203.000000   \n",
       "max             9.40000    148.000000    1.000000    1.00000  285.000000   \n",
       "\n",
       "       DEATH_EVENT  \n",
       "count    299.00000  \n",
       "mean       0.32107  \n",
       "std        0.46767  \n",
       "min        0.00000  \n",
       "25%        0.00000  \n",
       "50%        0.00000  \n",
       "75%        1.00000  \n",
       "max        1.00000  "
      ]
     },
     "execution_count": 5,
     "metadata": {},
     "output_type": "execute_result"
    }
   ],
   "source": [
    "df.describe()"
   ]
  },
  {
   "cell_type": "markdown",
   "id": "growing-enclosure",
   "metadata": {},
   "source": [
    "# Exploratory Data Analysis"
   ]
  },
  {
   "cell_type": "code",
   "execution_count": 6,
   "id": "academic-reputation",
   "metadata": {},
   "outputs": [
    {
     "data": {
      "text/plain": [
       "0    203\n",
       "1     96\n",
       "Name: DEATH_EVENT, dtype: int64"
      ]
     },
     "execution_count": 6,
     "metadata": {},
     "output_type": "execute_result"
    }
   ],
   "source": [
    "df['DEATH_EVENT'].value_counts()"
   ]
  },
  {
   "cell_type": "code",
   "execution_count": 7,
   "id": "exciting-consolidation",
   "metadata": {},
   "outputs": [
    {
     "data": {
      "image/png": "[encoded data removed]",
      "text/plain": [
       "<Figure size 720x360 with 1 Axes>"
      ]
     },
     "metadata": {
      "needs_background": "light"
     },
     "output_type": "display_data"
    }
   ],
   "source": [
    "plt.figure(figsize=(10,5))\n",
    "sns.set_style('darkgrid')\n",
    "sns.countplot(df['DEATH_EVENT'])\n",
    "plt.xlabel('Death Event',fontsize=18)\n",
    "plt.ylabel('Count',fontsize=18)\n",
    "plt.show()"
   ]
  },
  {
   "cell_type": "markdown",
   "id": "advanced-hobby",
   "metadata": {},
   "source": [
    "Count plot shows that out of 299 people 96 people died becuause of heart failure "
   ]
  },
  {
   "cell_type": "markdown",
   "id": "upper-drinking",
   "metadata": {},
   "source": [
    "# Effect of Age on Heart Failure"
   ]
  },
  {
   "cell_type": "code",
   "execution_count": 8,
   "id": "looking-speaking",
   "metadata": {},
   "outputs": [
    {
     "data": {
      "image/png": "[encoded data removed]",
      "text/plain": [
       "<Figure size 1080x432 with 1 Axes>"
      ]
     },
     "metadata": {},
     "output_type": "display_data"
    }
   ],
   "source": [
    "#Checking Data Distribution for Age\n",
    "plt.figure(figsize=(15,6))\n",
    "sns.distplot(df['age'])\n",
    "plt.show()"
   ]
  },
  {
   "cell_type": "markdown",
   "id": "congressional-resort",
   "metadata": {},
   "source": [
    "The Age is normally distributed"
   ]
  },
  {
   "cell_type": "code",
   "execution_count": 9,
   "id": "interim-congo",
   "metadata": {},
   "outputs": [
    {
     "data": {
      "image/png": "[encoded data removed]",
      "text/plain": [
       "<Figure size 1080x432 with 1 Axes>"
      ]
     },
     "metadata": {},
     "output_type": "display_data"
    }
   ],
   "source": [
    "plt.figure(figsize=(15,6))\n",
    "sns.boxplot(x='DEATH_EVENT',y='age',data=df,palette='viridis')\n",
    "plt.title('Effet of age on Heart Failure',size=15)\n",
    "plt.xlabel('No Heart Failure vs. Heart Failure',size=15)\n",
    "plt.ylabel('Age',size=15);"
   ]
  },
  {
   "cell_type": "markdown",
   "id": "recent-element",
   "metadata": {},
   "source": [
    "The above Boxplot shows."
   ]
  },
  {
   "cell_type": "markdown",
   "id": "frank-vietnam",
   "metadata": {},
   "source": [
    "Median Age of patients with heart failure is higher. 60-70 years of age is the most crucial year in terms of heart failure."
   ]
  },
  {
   "cell_type": "markdown",
   "id": "beginning-burke",
   "metadata": {},
   "source": [
    "# Effect of Diabeties on Heart Failure"
   ]
  },
  {
   "cell_type": "code",
   "execution_count": 10,
   "id": "increasing-delight",
   "metadata": {},
   "outputs": [
    {
     "data": {
      "image/png": "[encoded data removed]",
      "text/plain": [
       "<Figure size 720x360 with 1 Axes>"
      ]
     },
     "metadata": {},
     "output_type": "display_data"
    }
   ],
   "source": [
    "plt.figure(figsize=(10,5))\n",
    "sns.set_style('darkgrid')\n",
    "sns.countplot(x='diabetes', data=df, hue ='DEATH_EVENT', palette='winter')\n",
    "plt.xlabel('Diabetes',fontsize=15)\n",
    "plt.ylabel('Count',fontsize=15)\n",
    "plt.show()"
   ]
  },
  {
   "cell_type": "markdown",
   "id": "operational-batman",
   "metadata": {},
   "source": [
    "The person who have diabetes out of almost 50% people died"
   ]
  },
  {
   "cell_type": "markdown",
   "id": "least-sweet",
   "metadata": {},
   "source": [
    "# Effect of Ejection Fraction"
   ]
  },
  {
   "cell_type": "code",
   "execution_count": 11,
   "id": "comparative-methodology",
   "metadata": {},
   "outputs": [
    {
     "data": {
      "text/plain": [
       "array([20, 38, 40, 15, 60, 65, 35, 25, 30, 50, 14, 55, 45, 62, 80, 17, 70],\n",
       "      dtype=int64)"
      ]
     },
     "execution_count": 11,
     "metadata": {},
     "output_type": "execute_result"
    }
   ],
   "source": [
    "#Checking unique values in ejection fraction\n",
    "df.ejection_fraction.unique()  "
   ]
  },
  {
   "cell_type": "code",
   "execution_count": 12,
   "id": "recreational-illinois",
   "metadata": {},
   "outputs": [
    {
     "data": {
      "image/png": "[encoded data removed]",
      "text/plain": [
       "<Figure size 1080x432 with 1 Axes>"
      ]
     },
     "metadata": {},
     "output_type": "display_data"
    }
   ],
   "source": [
    "#Checking Data Distribution for Ejection Fraction\n",
    "plt.figure(figsize=(15,6))\n",
    "sns.distplot(df['ejection_fraction'])\n",
    "plt.show()"
   ]
  },
  {
   "cell_type": "markdown",
   "id": "buried-investment",
   "metadata": {},
   "source": [
    "Here ejection fraction seems like normally distributed"
   ]
  },
  {
   "cell_type": "code",
   "execution_count": 13,
   "id": "signed-kernel",
   "metadata": {},
   "outputs": [
    {
     "data": {
      "image/png": "[encoded data removed]",
      "text/plain": [
       "<Figure size 1440x576 with 1 Axes>"
      ]
     },
     "metadata": {},
     "output_type": "display_data"
    }
   ],
   "source": [
    "plt.figure(figsize=(20,8))\n",
    "sns.set_style('darkgrid')\n",
    "sns.countplot(x='ejection_fraction', data=df, hue ='DEATH_EVENT', palette='winter')\n",
    "plt.xlabel('ejection_fraction',fontsize=15)\n",
    "plt.ylabel('Count',fontsize=15)\n",
    "plt.show()"
   ]
  },
  {
   "cell_type": "markdown",
   "id": "failing-trout",
   "metadata": {},
   "source": [
    "The person who's ejection_fraction value 14,15,17,20,25,62,65,70 are died because of heart failure\n"
   ]
  },
  {
   "cell_type": "markdown",
   "id": "plastic-witness",
   "metadata": {},
   "source": [
    "# Effect of High blood pressure"
   ]
  },
  {
   "cell_type": "code",
   "execution_count": 14,
   "id": "fixed-military",
   "metadata": {},
   "outputs": [
    {
     "data": {
      "image/png": "[encoded data removed]",
      "text/plain": [
       "<Figure size 1080x432 with 1 Axes>"
      ]
     },
     "metadata": {},
     "output_type": "display_data"
    }
   ],
   "source": [
    "plt.figure(figsize=(15,6))\n",
    "sns.set_style('darkgrid')\n",
    "sns.countplot(x='high_blood_pressure', data=df, hue ='DEATH_EVENT', palette='Accent')\n",
    "plt.xlabel('High_blood_pressure',fontsize=15)\n",
    "plt.ylabel('Count',fontsize=15)\n",
    "plt.show()"
   ]
  },
  {
   "cell_type": "markdown",
   "id": "interesting-acoustic",
   "metadata": {},
   "source": [
    "Count Plot shows us the Death event for person having High blood pressure is more than the person have not high blood pressure"
   ]
  },
  {
   "cell_type": "markdown",
   "id": "vulnerable-modem",
   "metadata": {},
   "source": [
    "plt.figure(figsize=(15,6))\n",
    "sns.set_style('darkgrid')\n",
    "sns.countplot(x='sex', data=df, hue ='DEATH_EVENT', palette='Accent')\n",
    "plt.xlabel('sex',fontsize=15)\n",
    "plt.ylabel('Count',fontsize=15)\n",
    "plt.show()"
   ]
  },
  {
   "cell_type": "markdown",
   "id": "raising-leisure",
   "metadata": {},
   "source": [
    "# Effect of platelets"
   ]
  },
  {
   "cell_type": "code",
   "execution_count": 15,
   "id": "dense-cuisine",
   "metadata": {},
   "outputs": [
    {
     "data": {
      "image/png": "[encoded data removed]",
      "text/plain": [
       "<Figure size 1080x432 with 1 Axes>"
      ]
     },
     "metadata": {},
     "output_type": "display_data"
    }
   ],
   "source": [
    "#Checking Data Distribution For platelets\n",
    "plt.figure(figsize=(15,6))\n",
    "sns.distplot(df['platelets'])\n",
    "plt.show()"
   ]
  },
  {
   "cell_type": "markdown",
   "id": "maritime-render",
   "metadata": {},
   "source": [
    "Displot shows platelets is normally distributed"
   ]
  },
  {
   "cell_type": "code",
   "execution_count": 16,
   "id": "elect-scheduling",
   "metadata": {},
   "outputs": [
    {
     "data": {
      "text/plain": [
       "<AxesSubplot:xlabel='DEATH_EVENT', ylabel='platelets'>"
      ]
     },
     "execution_count": 16,
     "metadata": {},
     "output_type": "execute_result"
    },
    {
     "data": {
      "image/png": "[encoded data removed]",
      "text/plain": [
       "<Figure size 432x288 with 1 Axes>"
      ]
     },
     "metadata": {},
     "output_type": "display_data"
    }
   ],
   "source": [
    "sns.boxplot(x='DEATH_EVENT',y='platelets',data=df)"
   ]
  },
  {
   "cell_type": "markdown",
   "id": "driven-right",
   "metadata": {},
   "source": [
    "The median platelets for death event is same"
   ]
  },
  {
   "cell_type": "markdown",
   "id": "administrative-romantic",
   "metadata": {},
   "source": [
    "# Effect of smoking"
   ]
  },
  {
   "cell_type": "code",
   "execution_count": 17,
   "id": "naughty-provision",
   "metadata": {},
   "outputs": [
    {
     "data": {
      "image/png": "[encoded data removed]",
      "text/plain": [
       "<Figure size 1080x432 with 1 Axes>"
      ]
     },
     "metadata": {},
     "output_type": "display_data"
    }
   ],
   "source": [
    "plt.figure(figsize=(15,6))\n",
    "sns.set_style('darkgrid')\n",
    "sns.countplot(x='smoking', data=df, hue ='DEATH_EVENT', palette='Accent')\n",
    "plt.xlabel('Smoking',fontsize=15)\n",
    "plt.ylabel('Count',fontsize=15)\n",
    "plt.show()"
   ]
  },
  {
   "cell_type": "code",
   "execution_count": 18,
   "id": "instrumental-organizer",
   "metadata": {},
   "outputs": [
    {
     "data": {
      "text/plain": [
       "smoking  DEATH_EVENT\n",
       "0        0              137\n",
       "         1               66\n",
       "1        0               66\n",
       "         1               30\n",
       "Name: DEATH_EVENT, dtype: int64"
      ]
     },
     "execution_count": 18,
     "metadata": {},
     "output_type": "execute_result"
    }
   ],
   "source": [
    "df.groupby('smoking')['DEATH_EVENT'].value_counts()"
   ]
  },
  {
   "cell_type": "code",
   "execution_count": 19,
   "id": "boxed-paper",
   "metadata": {},
   "outputs": [
    {
     "data": {
      "text/plain": [
       "<seaborn.axisgrid.FacetGrid at 0x15833b5d60>"
      ]
     },
     "execution_count": 19,
     "metadata": {},
     "output_type": "execute_result"
    },
    {
     "data": {
      "image/png": "[encoded data removed]",
      "text/plain": [
       "<Figure size 720x360 with 2 Axes>"
      ]
     },
     "metadata": {},
     "output_type": "display_data"
    }
   ],
   "source": [
    "## We can visualize the value counts of the smoking variable wrt DEATH EVENT as follows -\n",
    "sns.catplot(y=\"DEATH_EVENT\", col=\"smoking\", data=df, kind=\"count\", height=5,  palette=\"winter\")"
   ]
  },
  {
   "cell_type": "markdown",
   "id": "alone-association",
   "metadata": {},
   "source": [
    "The Above plot shows that."
   ]
  },
  {
   "cell_type": "markdown",
   "id": "indie-format",
   "metadata": {},
   "source": [
    "1.Out of 137 not smoking person 66 died"
   ]
  },
  {
   "cell_type": "markdown",
   "id": "compressed-london",
   "metadata": {},
   "source": [
    "2.Out of 66 smoking person 30 died"
   ]
  },
  {
   "cell_type": "markdown",
   "id": "technical-glossary",
   "metadata": {},
   "source": [
    "# Effect of Anaemia"
   ]
  },
  {
   "cell_type": "code",
   "execution_count": 20,
   "id": "timely-chaos",
   "metadata": {},
   "outputs": [
    {
     "data": {
      "image/png": "[encoded data removed]",
      "text/plain": [
       "<Figure size 1080x432 with 1 Axes>"
      ]
     },
     "metadata": {},
     "output_type": "display_data"
    }
   ],
   "source": [
    "plt.figure(figsize=(15,6))\n",
    "sns.set_style('darkgrid')\n",
    "sns.countplot(x='anaemia', data=df, hue ='DEATH_EVENT', palette='winter')\n",
    "plt.xlabel('Anaemia',fontsize=15)\n",
    "plt.ylabel('Count',fontsize=15)\n",
    "plt.show()"
   ]
  },
  {
   "cell_type": "code",
   "execution_count": 21,
   "id": "skilled-serbia",
   "metadata": {},
   "outputs": [
    {
     "data": {
      "text/plain": [
       "anaemia  DEATH_EVENT\n",
       "0        0              120\n",
       "         1               50\n",
       "1        0               83\n",
       "         1               46\n",
       "Name: DEATH_EVENT, dtype: int64"
      ]
     },
     "execution_count": 21,
     "metadata": {},
     "output_type": "execute_result"
    }
   ],
   "source": [
    "df.groupby('anaemia')['DEATH_EVENT'].value_counts()"
   ]
  },
  {
   "cell_type": "markdown",
   "id": "palestinian-staff",
   "metadata": {},
   "source": [
    "Above plot confirms that."
   ]
  },
  {
   "cell_type": "markdown",
   "id": "communist-tokyo",
   "metadata": {},
   "source": [
    "1.The total person having anaemia is 129 out of 46 are died"
   ]
  },
  {
   "cell_type": "markdown",
   "id": "referenced-stations",
   "metadata": {},
   "source": [
    "2.The person not having anaemia are 170 out of 50 died"
   ]
  },
  {
   "cell_type": "code",
   "execution_count": 22,
   "id": "verbal-depression",
   "metadata": {},
   "outputs": [
    {
     "data": {
      "image/png": "[encoded data removed]",
      "text/plain": [
       "<Figure size 1080x432 with 1 Axes>"
      ]
     },
     "metadata": {},
     "output_type": "display_data"
    }
   ],
   "source": [
    "#Checking Data Distribution for creatinine phosphokinase\n",
    "plt.figure(figsize=(15,6))\n",
    "sns.distplot(df['creatinine_phosphokinase'])\n",
    "plt.show()"
   ]
  },
  {
   "cell_type": "markdown",
   "id": "undefined-bacon",
   "metadata": {},
   "source": [
    "The distribution of creatinine_phosphokinase is right skewed"
   ]
  },
  {
   "cell_type": "markdown",
   "id": "extended-bonus",
   "metadata": {},
   "source": [
    "# Effect of serum creatinine"
   ]
  },
  {
   "cell_type": "code",
   "execution_count": 23,
   "id": "natural-breath",
   "metadata": {},
   "outputs": [
    {
     "data": {
      "image/png": "[encoded data removed]",
      "text/plain": [
       "<Figure size 1080x432 with 1 Axes>"
      ]
     },
     "metadata": {},
     "output_type": "display_data"
    }
   ],
   "source": [
    "#Cheaking Data Distribution for serum creatinine\n",
    "plt.figure(figsize=(15,6))\n",
    "sns.distplot(df['serum_creatinine'])\n",
    "plt.show()"
   ]
  },
  {
   "cell_type": "code",
   "execution_count": 24,
   "id": "modified-kelly",
   "metadata": {},
   "outputs": [
    {
     "data": {
      "image/png": "[encoded data removed]",
      "text/plain": [
       "<Figure size 1080x432 with 1 Axes>"
      ]
     },
     "metadata": {},
     "output_type": "display_data"
    }
   ],
   "source": [
    "plt.figure(figsize=(15,6))\n",
    "sns.boxplot(x='DEATH_EVENT',y='serum_creatinine',data=df,palette='viridis')\n",
    "plt.title('Heart failure by Serum creatinine',size=15)\n",
    "plt.xlabel('No Heart Failure vs. Heart Failure',size=15)\n",
    "plt.ylabel('Serum Creatinine',size=15);"
   ]
  },
  {
   "cell_type": "markdown",
   "id": "governing-rolling",
   "metadata": {},
   "source": [
    "The median of No heart failure is less and for failure it is more"
   ]
  },
  {
   "cell_type": "markdown",
   "id": "cubic-attachment",
   "metadata": {},
   "source": [
    "# Effect of serum sodium"
   ]
  },
  {
   "cell_type": "code",
   "execution_count": 25,
   "id": "processed-lease",
   "metadata": {},
   "outputs": [
    {
     "data": {
      "image/png": "[encoded data removed]",
      "text/plain": [
       "<Figure size 1080x432 with 1 Axes>"
      ]
     },
     "metadata": {},
     "output_type": "display_data"
    }
   ],
   "source": [
    "#Data Distribution For serum sodium\n",
    "plt.figure(figsize=(15,6))\n",
    "sns.distplot(df['serum_sodium'])\n",
    "plt.show()"
   ]
  },
  {
   "cell_type": "markdown",
   "id": "false-daily",
   "metadata": {},
   "source": [
    "Serum sodium is normally distributed"
   ]
  },
  {
   "cell_type": "code",
   "execution_count": 26,
   "id": "worthy-quebec",
   "metadata": {},
   "outputs": [
    {
     "data": {
      "image/png": "[encoded data removed]",
      "text/plain": [
       "<Figure size 1080x432 with 1 Axes>"
      ]
     },
     "metadata": {},
     "output_type": "display_data"
    }
   ],
   "source": [
    "plt.figure(figsize=(15,6))\n",
    "sns.boxplot(x='DEATH_EVENT',y='serum_sodium',data=df,palette='viridis')\n",
    "plt.title('Heart failure by Serum sodium',size=15)\n",
    "plt.xlabel('No Heart Failure vs. Heart Failure',size=15)\n",
    "plt.ylabel('Serum Sodium',size=15);"
   ]
  },
  {
   "cell_type": "markdown",
   "id": "arbitrary-plastic",
   "metadata": {},
   "source": [
    "We can see that those people died by heart failure have relatively lower serum sodium as compared to people who are not died by heart failure."
   ]
  },
  {
   "cell_type": "code",
   "execution_count": 27,
   "id": "secondary-sauce",
   "metadata": {},
   "outputs": [
    {
     "data": {
      "text/plain": [
       "sex  DEATH_EVENT\n",
       "0    0               71\n",
       "     1               34\n",
       "1    0              132\n",
       "     1               62\n",
       "Name: DEATH_EVENT, dtype: int64"
      ]
     },
     "execution_count": 27,
     "metadata": {},
     "output_type": "execute_result"
    }
   ],
   "source": [
    "df.groupby('sex')['DEATH_EVENT'].value_counts()"
   ]
  },
  {
   "cell_type": "code",
   "execution_count": 28,
   "id": "crude-daniel",
   "metadata": {},
   "outputs": [
    {
     "data": {
      "text/plain": [
       "<seaborn.axisgrid.FacetGrid at 0x15ff639910>"
      ]
     },
     "execution_count": 28,
     "metadata": {},
     "output_type": "execute_result"
    },
    {
     "data": {
      "image/png": "[encoded data removed]",
      "text/plain": [
       "<Figure size 720x360 with 2 Axes>"
      ]
     },
     "metadata": {},
     "output_type": "display_data"
    }
   ],
   "source": [
    "sns.catplot(y=\"DEATH_EVENT\", col=\"sex\", data=df, kind=\"count\", height=5,  palette=\"tab10\")"
   ]
  },
  {
   "cell_type": "markdown",
   "id": "secure-messaging",
   "metadata": {},
   "source": [
    "The above plot shows that."
   ]
  },
  {
   "cell_type": "markdown",
   "id": "coastal-peninsula",
   "metadata": {},
   "source": [
    "1.Out of 105 females 34 died beacause of heart failure"
   ]
  },
  {
   "cell_type": "markdown",
   "id": "incoming-anniversary",
   "metadata": {},
   "source": [
    "2.Out of 194 males 62 died beacause of heart failure"
   ]
  },
  {
   "cell_type": "markdown",
   "id": "focal-natural",
   "metadata": {},
   "source": [
    "# Effect of Follow up period"
   ]
  },
  {
   "cell_type": "code",
   "execution_count": 29,
   "id": "relative-allen",
   "metadata": {},
   "outputs": [
    {
     "data": {
      "text/plain": [
       "Text(0, 0.5, 'time')"
      ]
     },
     "execution_count": 29,
     "metadata": {},
     "output_type": "execute_result"
    },
    {
     "data": {
      "image/png": "[encoded data removed]",
      "text/plain": [
       "<Figure size 1080x432 with 1 Axes>"
      ]
     },
     "metadata": {},
     "output_type": "display_data"
    }
   ],
   "source": [
    "plt.figure(figsize=(15,6))\n",
    "sns.boxplot(x='DEATH_EVENT',y='time',data=df,palette='viridis')\n",
    "plt.title('Effect of follow up period on Heart Failure',size=15)\n",
    "plt.xlabel('No Heart Failure vs. Heart Failure',size=15)\n",
    "plt.ylabel('time',size=15)"
   ]
  },
  {
   "cell_type": "markdown",
   "id": "narrative-service",
   "metadata": {},
   "source": [
    "The above Box plot shows us the person who's follow up period more is not died and the person who's follow up period less is died by Heart Failure"
   ]
  },
  {
   "cell_type": "code",
   "execution_count": 30,
   "id": "attached-trouble",
   "metadata": {},
   "outputs": [],
   "source": [
    "#Converting dataset into dependent and independent\n",
    "X = df.iloc[:,0:12]\n",
    "y = df.iloc[:,-1]"
   ]
  },
  {
   "cell_type": "markdown",
   "id": "forbidden-relative",
   "metadata": {},
   "source": [
    "# Handling Imbalanced Dataset"
   ]
  },
  {
   "cell_type": "code",
   "execution_count": 31,
   "id": "informal-michael",
   "metadata": {},
   "outputs": [],
   "source": [
    "from imblearn.combine import SMOTETomek\n",
    "st = SMOTETomek()\n",
    "X_res,y_res=st.fit_resample(X,y)"
   ]
  },
  {
   "cell_type": "code",
   "execution_count": 32,
   "id": "unnecessary-philippines",
   "metadata": {},
   "outputs": [
    {
     "data": {
      "text/plain": [
       "(332, 12)"
      ]
     },
     "execution_count": 32,
     "metadata": {},
     "output_type": "execute_result"
    }
   ],
   "source": [
    "X_res.shape"
   ]
  },
  {
   "cell_type": "code",
   "execution_count": 33,
   "id": "homeless-norway",
   "metadata": {},
   "outputs": [
    {
     "data": {
      "text/plain": [
       "0    166\n",
       "1    166\n",
       "Name: DEATH_EVENT, dtype: int64"
      ]
     },
     "execution_count": 33,
     "metadata": {},
     "output_type": "execute_result"
    }
   ],
   "source": [
    "y_res.value_counts()"
   ]
  },
  {
   "cell_type": "markdown",
   "id": "bizarre-understanding",
   "metadata": {},
   "source": [
    "So now dataset is balanced"
   ]
  },
  {
   "cell_type": "markdown",
   "id": "indoor-lecture",
   "metadata": {},
   "source": [
    "# Feature Selection"
   ]
  },
  {
   "cell_type": "code",
   "execution_count": 34,
   "id": "infinite-architect",
   "metadata": {},
   "outputs": [],
   "source": [
    "from sklearn.feature_selection import SelectKBest,chi2"
   ]
  },
  {
   "cell_type": "code",
   "execution_count": 35,
   "id": "sweet-senegal",
   "metadata": {},
   "outputs": [],
   "source": [
    "features = SelectKBest(score_func=chi2,k=10)\n",
    "fit = features.fit(X,y)"
   ]
  },
  {
   "cell_type": "code",
   "execution_count": 36,
   "id": "hired-notebook",
   "metadata": {},
   "outputs": [],
   "source": [
    "dfscore = pd.DataFrame(fit.scores_)\n",
    "dfcol = pd.DataFrame(X.columns)"
   ]
  },
  {
   "cell_type": "code",
   "execution_count": 37,
   "id": "absent-contamination",
   "metadata": {},
   "outputs": [],
   "source": [
    "bestfeature = pd.concat([dfcol,dfscore],axis=1)\n",
    "bestfeature.columns=['column','score']"
   ]
  },
  {
   "cell_type": "code",
   "execution_count": 38,
   "id": "characteristic-chance",
   "metadata": {},
   "outputs": [
    {
     "data": {
      "text/html": [
       "<div>\n",
       "<style scoped>\n",
       "    .dataframe tbody tr th:only-of-type {\n",
       "        vertical-align: middle;\n",
       "    }\n",
       "\n",
       "    .dataframe tbody tr th {\n",
       "        vertical-align: top;\n",
       "    }\n",
       "\n",
       "    .dataframe thead th {\n",
       "        text-align: right;\n",
       "    }\n",
       "</style>\n",
       "<table border=\"1\" class=\"dataframe\">\n",
       "  <thead>\n",
       "    <tr style=\"text-align: right;\">\n",
       "      <th></th>\n",
       "      <th>column</th>\n",
       "      <th>score</th>\n",
       "    </tr>\n",
       "  </thead>\n",
       "  <tbody>\n",
       "    <tr>\n",
       "      <th>0</th>\n",
       "      <td>age</td>\n",
       "      <td>44.619455</td>\n",
       "    </tr>\n",
       "    <tr>\n",
       "      <th>1</th>\n",
       "      <td>anaemia</td>\n",
       "      <td>0.746593</td>\n",
       "    </tr>\n",
       "    <tr>\n",
       "      <th>2</th>\n",
       "      <td>creatinine_phosphokinase</td>\n",
       "      <td>1897.314839</td>\n",
       "    </tr>\n",
       "    <tr>\n",
       "      <th>3</th>\n",
       "      <td>diabetes</td>\n",
       "      <td>0.000657</td>\n",
       "    </tr>\n",
       "    <tr>\n",
       "      <th>4</th>\n",
       "      <td>ejection_fraction</td>\n",
       "      <td>79.072541</td>\n",
       "    </tr>\n",
       "    <tr>\n",
       "      <th>5</th>\n",
       "      <td>high_blood_pressure</td>\n",
       "      <td>1.221539</td>\n",
       "    </tr>\n",
       "    <tr>\n",
       "      <th>6</th>\n",
       "      <td>platelets</td>\n",
       "      <td>26135.771990</td>\n",
       "    </tr>\n",
       "    <tr>\n",
       "      <th>7</th>\n",
       "      <td>serum_creatinine</td>\n",
       "      <td>19.814118</td>\n",
       "    </tr>\n",
       "    <tr>\n",
       "      <th>8</th>\n",
       "      <td>serum_sodium</td>\n",
       "      <td>1.618175</td>\n",
       "    </tr>\n",
       "    <tr>\n",
       "      <th>9</th>\n",
       "      <td>sex</td>\n",
       "      <td>0.001956</td>\n",
       "    </tr>\n",
       "    <tr>\n",
       "      <th>10</th>\n",
       "      <td>smoking</td>\n",
       "      <td>0.032347</td>\n",
       "    </tr>\n",
       "    <tr>\n",
       "      <th>11</th>\n",
       "      <td>time</td>\n",
       "      <td>3826.892661</td>\n",
       "    </tr>\n",
       "  </tbody>\n",
       "</table>\n",
       "</div>"
      ],
      "text/plain": [
       "                      column         score\n",
       "0                        age     44.619455\n",
       "1                    anaemia      0.746593\n",
       "2   creatinine_phosphokinase   1897.314839\n",
       "3                   diabetes      0.000657\n",
       "4          ejection_fraction     79.072541\n",
       "5        high_blood_pressure      1.221539\n",
       "6                  platelets  26135.771990\n",
       "7           serum_creatinine     19.814118\n",
       "8               serum_sodium      1.618175\n",
       "9                        sex      0.001956\n",
       "10                   smoking      0.032347\n",
       "11                      time   3826.892661"
      ]
     },
     "execution_count": 38,
     "metadata": {},
     "output_type": "execute_result"
    }
   ],
   "source": [
    "bestfeature"
   ]
  },
  {
   "cell_type": "code",
   "execution_count": 39,
   "id": "hazardous-market",
   "metadata": {},
   "outputs": [
    {
     "name": "stdout",
     "output_type": "stream",
     "text": [
      "                      column         score\n",
      "6                  platelets  26135.771990\n",
      "11                      time   3826.892661\n",
      "2   creatinine_phosphokinase   1897.314839\n",
      "4          ejection_fraction     79.072541\n",
      "0                        age     44.619455\n",
      "7           serum_creatinine     19.814118\n",
      "8               serum_sodium      1.618175\n",
      "5        high_blood_pressure      1.221539\n"
     ]
    }
   ],
   "source": [
    "print(bestfeature.nlargest(8,'score'))"
   ]
  },
  {
   "cell_type": "markdown",
   "id": "increasing-probe",
   "metadata": {},
   "source": [
    "So these are the most important 8 features. by using these features we build a model"
   ]
  },
  {
   "cell_type": "code",
   "execution_count": 40,
   "id": "decent-label",
   "metadata": {},
   "outputs": [],
   "source": [
    "#Drop Sex and Diabetes because both features gives very less contribution in Death event\n",
    "final_features = df.drop(df[['sex','diabetes','anaemia','smoking']],axis=1)"
   ]
  },
  {
   "cell_type": "code",
   "execution_count": 41,
   "id": "silent-literature",
   "metadata": {},
   "outputs": [
    {
     "data": {
      "text/html": [
       "<div>\n",
       "<style scoped>\n",
       "    .dataframe tbody tr th:only-of-type {\n",
       "        vertical-align: middle;\n",
       "    }\n",
       "\n",
       "    .dataframe tbody tr th {\n",
       "        vertical-align: top;\n",
       "    }\n",
       "\n",
       "    .dataframe thead th {\n",
       "        text-align: right;\n",
       "    }\n",
       "</style>\n",
       "<table border=\"1\" class=\"dataframe\">\n",
       "  <thead>\n",
       "    <tr style=\"text-align: right;\">\n",
       "      <th></th>\n",
       "      <th>age</th>\n",
       "      <th>creatinine_phosphokinase</th>\n",
       "      <th>ejection_fraction</th>\n",
       "      <th>high_blood_pressure</th>\n",
       "      <th>platelets</th>\n",
       "      <th>serum_creatinine</th>\n",
       "      <th>serum_sodium</th>\n",
       "      <th>time</th>\n",
       "      <th>DEATH_EVENT</th>\n",
       "    </tr>\n",
       "  </thead>\n",
       "  <tbody>\n",
       "    <tr>\n",
       "      <th>0</th>\n",
       "      <td>75.0</td>\n",
       "      <td>582</td>\n",
       "      <td>20</td>\n",
       "      <td>1</td>\n",
       "      <td>265000.00</td>\n",
       "      <td>1.9</td>\n",
       "      <td>130</td>\n",
       "      <td>4</td>\n",
       "      <td>1</td>\n",
       "    </tr>\n",
       "    <tr>\n",
       "      <th>1</th>\n",
       "      <td>55.0</td>\n",
       "      <td>7861</td>\n",
       "      <td>38</td>\n",
       "      <td>0</td>\n",
       "      <td>263358.03</td>\n",
       "      <td>1.1</td>\n",
       "      <td>136</td>\n",
       "      <td>6</td>\n",
       "      <td>1</td>\n",
       "    </tr>\n",
       "    <tr>\n",
       "      <th>2</th>\n",
       "      <td>65.0</td>\n",
       "      <td>146</td>\n",
       "      <td>20</td>\n",
       "      <td>0</td>\n",
       "      <td>162000.00</td>\n",
       "      <td>1.3</td>\n",
       "      <td>129</td>\n",
       "      <td>7</td>\n",
       "      <td>1</td>\n",
       "    </tr>\n",
       "    <tr>\n",
       "      <th>3</th>\n",
       "      <td>50.0</td>\n",
       "      <td>111</td>\n",
       "      <td>20</td>\n",
       "      <td>0</td>\n",
       "      <td>210000.00</td>\n",
       "      <td>1.9</td>\n",
       "      <td>137</td>\n",
       "      <td>7</td>\n",
       "      <td>1</td>\n",
       "    </tr>\n",
       "    <tr>\n",
       "      <th>4</th>\n",
       "      <td>65.0</td>\n",
       "      <td>160</td>\n",
       "      <td>20</td>\n",
       "      <td>0</td>\n",
       "      <td>327000.00</td>\n",
       "      <td>2.7</td>\n",
       "      <td>116</td>\n",
       "      <td>8</td>\n",
       "      <td>1</td>\n",
       "    </tr>\n",
       "  </tbody>\n",
       "</table>\n",
       "</div>"
      ],
      "text/plain": [
       "    age  creatinine_phosphokinase  ejection_fraction  high_blood_pressure  \\\n",
       "0  75.0                       582                 20                    1   \n",
       "1  55.0                      7861                 38                    0   \n",
       "2  65.0                       146                 20                    0   \n",
       "3  50.0                       111                 20                    0   \n",
       "4  65.0                       160                 20                    0   \n",
       "\n",
       "   platelets  serum_creatinine  serum_sodium  time  DEATH_EVENT  \n",
       "0  265000.00               1.9           130     4            1  \n",
       "1  263358.03               1.1           136     6            1  \n",
       "2  162000.00               1.3           129     7            1  \n",
       "3  210000.00               1.9           137     7            1  \n",
       "4  327000.00               2.7           116     8            1  "
      ]
     },
     "execution_count": 41,
     "metadata": {},
     "output_type": "execute_result"
    }
   ],
   "source": [
    "final_features.head()"
   ]
  },
  {
   "cell_type": "code",
   "execution_count": 42,
   "id": "perfect-particular",
   "metadata": {},
   "outputs": [],
   "source": [
    "#Dividin Data into denpendent and independent variables\n",
    "X_new = final_features.iloc[:,0:8]\n",
    "y_new = final_features.iloc[:,-1]"
   ]
  },
  {
   "cell_type": "markdown",
   "id": "honest-nebraska",
   "metadata": {},
   "source": [
    "# Train Test Split"
   ]
  },
  {
   "cell_type": "code",
   "execution_count": 43,
   "id": "indie-suffering",
   "metadata": {},
   "outputs": [],
   "source": [
    "from sklearn.model_selection import train_test_split\n",
    "X_train,X_test,y_train,y_test = train_test_split(X_new,y_new,test_size=0.2,random_state=40)"
   ]
  },
  {
   "cell_type": "markdown",
   "id": "expanded-moderator",
   "metadata": {},
   "source": [
    "# Model Building"
   ]
  },
  {
   "cell_type": "markdown",
   "id": "spiritual-withdrawal",
   "metadata": {},
   "source": [
    "# 1. Random Forest"
   ]
  },
  {
   "cell_type": "code",
   "execution_count": 44,
   "id": "nutritional-charger",
   "metadata": {},
   "outputs": [],
   "source": [
    "from sklearn.ensemble import RandomForestClassifier\n",
    "ran = RandomForestClassifier(n_estimators=10,random_state=0)"
   ]
  },
  {
   "cell_type": "code",
   "execution_count": 45,
   "id": "finnish-tunisia",
   "metadata": {},
   "outputs": [
    {
     "data": {
      "text/plain": [
       "RandomForestClassifier(n_estimators=10, random_state=0)"
      ]
     },
     "execution_count": 45,
     "metadata": {},
     "output_type": "execute_result"
    }
   ],
   "source": [
    "ran.fit(X_train,y_train)"
   ]
  },
  {
   "cell_type": "code",
   "execution_count": 46,
   "id": "public-premises",
   "metadata": {},
   "outputs": [
    {
     "data": {
      "text/plain": [
       "0.9"
      ]
     },
     "execution_count": 46,
     "metadata": {},
     "output_type": "execute_result"
    }
   ],
   "source": [
    "ran.score(X_test,y_test)"
   ]
  },
  {
   "cell_type": "code",
   "execution_count": 47,
   "id": "other-exercise",
   "metadata": {},
   "outputs": [
    {
     "data": {
      "text/plain": [
       "0.99581589958159"
      ]
     },
     "execution_count": 47,
     "metadata": {},
     "output_type": "execute_result"
    }
   ],
   "source": [
    "ran.score(X_train,y_train)"
   ]
  },
  {
   "cell_type": "code",
   "execution_count": 48,
   "id": "concerned-exercise",
   "metadata": {},
   "outputs": [],
   "source": [
    "y_pred = ran.predict(X_test)"
   ]
  },
  {
   "cell_type": "code",
   "execution_count": 49,
   "id": "tender-computer",
   "metadata": {},
   "outputs": [],
   "source": [
    "from sklearn.metrics import confusion_matrix,accuracy_score\n",
    "cd = confusion_matrix(y_pred,y_test)"
   ]
  },
  {
   "cell_type": "code",
   "execution_count": 50,
   "id": "stretch-inquiry",
   "metadata": {},
   "outputs": [
    {
     "data": {
      "text/plain": [
       "<AxesSubplot:>"
      ]
     },
     "execution_count": 50,
     "metadata": {},
     "output_type": "execute_result"
    },
    {
     "data": {
      "image/png": "[encoded data removed]",
      "text/plain": [
       "<Figure size 432x288 with 2 Axes>"
      ]
     },
     "metadata": {},
     "output_type": "display_data"
    }
   ],
   "source": [
    "sns.heatmap(cd,annot=True)"
   ]
  },
  {
   "cell_type": "markdown",
   "id": "governing-beatles",
   "metadata": {},
   "source": [
    "# 2. Decision Tree"
   ]
  },
  {
   "cell_type": "code",
   "execution_count": 51,
   "id": "automated-marsh",
   "metadata": {},
   "outputs": [],
   "source": [
    "from sklearn.tree import DecisionTreeClassifier\n",
    "dtree = DecisionTreeClassifier()"
   ]
  },
  {
   "cell_type": "code",
   "execution_count": 52,
   "id": "placed-integer",
   "metadata": {},
   "outputs": [
    {
     "data": {
      "text/plain": [
       "DecisionTreeClassifier()"
      ]
     },
     "execution_count": 52,
     "metadata": {},
     "output_type": "execute_result"
    }
   ],
   "source": [
    "dtree.fit(X_train,y_train)"
   ]
  },
  {
   "cell_type": "code",
   "execution_count": 53,
   "id": "universal-apparel",
   "metadata": {},
   "outputs": [],
   "source": [
    "pred= dtree.predict(X_test)"
   ]
  },
  {
   "cell_type": "code",
   "execution_count": 54,
   "id": "humanitarian-saskatchewan",
   "metadata": {},
   "outputs": [],
   "source": [
    "from sklearn.metrics import confusion_matrix,accuracy_score"
   ]
  },
  {
   "cell_type": "code",
   "execution_count": 55,
   "id": "ecological-latvia",
   "metadata": {},
   "outputs": [],
   "source": [
    "cd1=confusion_matrix(pred,y_test)"
   ]
  },
  {
   "cell_type": "code",
   "execution_count": 56,
   "id": "regulated-nebraska",
   "metadata": {},
   "outputs": [
    {
     "data": {
      "text/plain": [
       "<AxesSubplot:>"
      ]
     },
     "execution_count": 56,
     "metadata": {},
     "output_type": "execute_result"
    },
    {
     "data": {
      "image/png": "[encoded data removed]",
      "text/plain": [
       "<Figure size 432x288 with 2 Axes>"
      ]
     },
     "metadata": {},
     "output_type": "display_data"
    }
   ],
   "source": [
    "sns.heatmap(cd1,annot=True)"
   ]
  },
  {
   "cell_type": "markdown",
   "id": "banned-intake",
   "metadata": {},
   "source": [
    "# 3.Logistic Regression"
   ]
  },
  {
   "cell_type": "code",
   "execution_count": 57,
   "id": "approved-petroleum",
   "metadata": {},
   "outputs": [],
   "source": [
    "from sklearn.linear_model import LogisticRegression\n",
    "lg = LogisticRegression()"
   ]
  },
  {
   "cell_type": "code",
   "execution_count": 58,
   "id": "objective-stroke",
   "metadata": {},
   "outputs": [
    {
     "data": {
      "text/plain": [
       "LogisticRegression()"
      ]
     },
     "execution_count": 58,
     "metadata": {},
     "output_type": "execute_result"
    }
   ],
   "source": [
    "lg.fit(X_train,y_train)"
   ]
  },
  {
   "cell_type": "code",
   "execution_count": 59,
   "id": "broke-danger",
   "metadata": {},
   "outputs": [
    {
     "data": {
      "text/plain": [
       "0.8333333333333334"
      ]
     },
     "execution_count": 59,
     "metadata": {},
     "output_type": "execute_result"
    }
   ],
   "source": [
    "lg.score(X_test,y_test)"
   ]
  },
  {
   "cell_type": "code",
   "execution_count": 60,
   "id": "nonprofit-multimedia",
   "metadata": {},
   "outputs": [],
   "source": [
    "y_pred = lg.predict(X_test)"
   ]
  },
  {
   "cell_type": "code",
   "execution_count": 61,
   "id": "remarkable-deadline",
   "metadata": {},
   "outputs": [],
   "source": [
    "cd2 = confusion_matrix(y_test,y_pred)"
   ]
  },
  {
   "cell_type": "code",
   "execution_count": 62,
   "id": "miniature-water",
   "metadata": {},
   "outputs": [
    {
     "data": {
      "text/plain": [
       "<AxesSubplot:>"
      ]
     },
     "execution_count": 62,
     "metadata": {},
     "output_type": "execute_result"
    },
    {
     "data": {
      "image/png": "[encoded data removed]",
      "text/plain": [
       "<Figure size 432x288 with 2 Axes>"
      ]
     },
     "metadata": {},
     "output_type": "display_data"
    }
   ],
   "source": [
    "sns.heatmap(cd2,annot=True)"
   ]
  },
  {
   "cell_type": "markdown",
   "id": "lyric-review",
   "metadata": {},
   "source": [
    "# 4.Knn"
   ]
  },
  {
   "cell_type": "code",
   "execution_count": 63,
   "id": "resident-dining",
   "metadata": {},
   "outputs": [],
   "source": [
    "from sklearn.neighbors import KNeighborsClassifier\n",
    "knn = KNeighborsClassifier()"
   ]
  },
  {
   "cell_type": "code",
   "execution_count": 64,
   "id": "floating-voice",
   "metadata": {},
   "outputs": [
    {
     "data": {
      "text/plain": [
       "KNeighborsClassifier()"
      ]
     },
     "execution_count": 64,
     "metadata": {},
     "output_type": "execute_result"
    }
   ],
   "source": [
    "knn.fit(X_train,y_train)"
   ]
  },
  {
   "cell_type": "code",
   "execution_count": 65,
   "id": "bound-breakdown",
   "metadata": {},
   "outputs": [
    {
     "data": {
      "text/plain": [
       "0.6333333333333333"
      ]
     },
     "execution_count": 65,
     "metadata": {},
     "output_type": "execute_result"
    }
   ],
   "source": [
    "knn.score(X_test,y_test)"
   ]
  },
  {
   "cell_type": "code",
   "execution_count": 66,
   "id": "honey-compatibility",
   "metadata": {},
   "outputs": [
    {
     "name": "stdout",
     "output_type": "stream",
     "text": [
      "k= 1\n",
      "0.5833333333333334\n",
      "\n",
      "\n",
      "k= 2\n",
      "0.6666666666666666\n",
      "\n",
      "\n",
      "k= 3\n",
      "0.5666666666666667\n",
      "\n",
      "\n",
      "k= 4\n",
      "0.65\n",
      "\n",
      "\n",
      "k= 5\n",
      "0.6333333333333333\n",
      "\n",
      "\n",
      "k= 6\n",
      "0.6333333333333333\n",
      "\n",
      "\n",
      "k= 7\n",
      "0.6666666666666666\n",
      "\n",
      "\n",
      "k= 8\n",
      "0.6666666666666666\n",
      "\n",
      "\n",
      "k= 9\n",
      "0.65\n",
      "\n",
      "\n",
      "k= 10\n",
      "0.6333333333333333\n",
      "\n",
      "\n",
      "k= 11\n",
      "0.65\n",
      "\n",
      "\n",
      "k= 12\n",
      "0.65\n",
      "\n",
      "\n",
      "k= 13\n",
      "0.6666666666666666\n",
      "\n",
      "\n",
      "k= 14\n",
      "0.6833333333333333\n",
      "\n",
      "\n"
     ]
    }
   ],
   "source": [
    "for i in range(1,15):\n",
    "    print('k=',i)\n",
    "    knn = KNeighborsClassifier(n_neighbors=i)\n",
    "    knn.fit(X_train,y_train)\n",
    "    print(knn.score(X_test,y_test))\n",
    "    print('\\n')\n",
    "    "
   ]
  },
  {
   "cell_type": "markdown",
   "id": "ceramic-washington",
   "metadata": {},
   "source": [
    "At k=14 gives highest accuracy"
   ]
  },
  {
   "cell_type": "code",
   "execution_count": 67,
   "id": "interstate-afternoon",
   "metadata": {},
   "outputs": [],
   "source": [
    "y_pred = knn.predict(X_test)"
   ]
  },
  {
   "cell_type": "code",
   "execution_count": 68,
   "id": "governing-mitchell",
   "metadata": {},
   "outputs": [],
   "source": [
    "cd3 = confusion_matrix(y_pred,y_test)"
   ]
  },
  {
   "cell_type": "code",
   "execution_count": 69,
   "id": "motivated-railway",
   "metadata": {},
   "outputs": [
    {
     "data": {
      "text/plain": [
       "<AxesSubplot:>"
      ]
     },
     "execution_count": 69,
     "metadata": {},
     "output_type": "execute_result"
    },
    {
     "data": {
      "image/png": "[encoded data removed]",
      "text/plain": [
       "<Figure size 432x288 with 2 Axes>"
      ]
     },
     "metadata": {},
     "output_type": "display_data"
    }
   ],
   "source": [
    "sns.heatmap(cd3,annot=True)"
   ]
  },
  {
   "cell_type": "markdown",
   "id": "mechanical-photography",
   "metadata": {},
   "source": [
    "# 5.AdaBoost"
   ]
  },
  {
   "cell_type": "code",
   "execution_count": 70,
   "id": "designing-study",
   "metadata": {},
   "outputs": [],
   "source": [
    "from sklearn.ensemble import AdaBoostClassifier\n",
    "ad = AdaBoostClassifier()"
   ]
  },
  {
   "cell_type": "code",
   "execution_count": 71,
   "id": "objective-interstate",
   "metadata": {},
   "outputs": [
    {
     "data": {
      "text/plain": [
       "AdaBoostClassifier()"
      ]
     },
     "execution_count": 71,
     "metadata": {},
     "output_type": "execute_result"
    }
   ],
   "source": [
    "ad.fit(X_train,y_train)"
   ]
  },
  {
   "cell_type": "code",
   "execution_count": 72,
   "id": "hollow-genius",
   "metadata": {
    "scrolled": true
   },
   "outputs": [
    {
     "data": {
      "text/plain": [
       "0.8"
      ]
     },
     "execution_count": 72,
     "metadata": {},
     "output_type": "execute_result"
    }
   ],
   "source": [
    "ad.score(X_test,y_test)"
   ]
  },
  {
   "cell_type": "code",
   "execution_count": 73,
   "id": "flexible-circuit",
   "metadata": {},
   "outputs": [],
   "source": [
    "y_pred = ad.predict(X_test)"
   ]
  },
  {
   "cell_type": "code",
   "execution_count": 74,
   "id": "innovative-failing",
   "metadata": {},
   "outputs": [],
   "source": [
    "cd4 = confusion_matrix(y_pred,y_test)"
   ]
  },
  {
   "cell_type": "code",
   "execution_count": 75,
   "id": "closed-civilian",
   "metadata": {},
   "outputs": [
    {
     "data": {
      "text/plain": [
       "<AxesSubplot:>"
      ]
     },
     "execution_count": 75,
     "metadata": {},
     "output_type": "execute_result"
    },
    {
     "data": {
      "image/png": "[encoded data removed]",
      "text/plain": [
       "<Figure size 432x288 with 2 Axes>"
      ]
     },
     "metadata": {},
     "output_type": "display_data"
    }
   ],
   "source": [
    "sns.heatmap(cd4,annot=True)"
   ]
  },
  {
   "cell_type": "markdown",
   "id": "respective-giving",
   "metadata": {},
   "source": [
    "# Conclusion:"
   ]
  },
  {
   "cell_type": "markdown",
   "id": "czech-marsh",
   "metadata": {},
   "source": [
    "Out of these 5 models we choose Random Forest with 90% accuracy"
   ]
  },
  {
   "cell_type": "markdown",
   "id": "tamil-prerequisite",
   "metadata": {},
   "source": [
    "# Save Model"
   ]
  },
  {
   "cell_type": "code",
   "execution_count": 76,
   "id": "democratic-painting",
   "metadata": {},
   "outputs": [],
   "source": [
    "import pickle"
   ]
  },
  {
   "cell_type": "code",
   "execution_count": 77,
   "id": "narrative-monday",
   "metadata": {},
   "outputs": [],
   "source": [
    "#open file where we want to store a data\n",
    "file = open('heart_failure.pkl','wb')\n",
    "\n",
    "#dump information in that file\n",
    "pickle.dump(ran,file)"
   ]
  },
  {
   "cell_type": "code",
   "execution_count": null,
   "id": "blocked-europe",
   "metadata": {},
   "outputs": [],
   "source": []
  }
 ],
 "metadata": {
  "kernelspec": {
   "display_name": "Python 3",
   "language": "python",
   "name": "python3"
  },
  "language_info": {
   "codemirror_mode": {
    "name": "ipython",
    "version": 3
   },
   "file_extension": ".py",
   "mimetype": "text/x-python",
   "name": "python",
   "nbconvert_exporter": "python",
   "pygments_lexer": "ipython3",
   "version": "3.9.7"
  }
 },
 "nbformat": 4,
 "nbformat_minor": 5
}
